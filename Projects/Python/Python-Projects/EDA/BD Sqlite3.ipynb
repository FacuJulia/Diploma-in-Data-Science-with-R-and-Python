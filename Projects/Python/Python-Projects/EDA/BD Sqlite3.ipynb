{
 "cells": [
  {
   "cell_type": "markdown",
   "metadata": {},
   "source": [
    "**Conexión a la Base de Datos**\n",
    "\n",
    "import sqlite3\n",
    "\n",
    "conn = sqlite3.connect('database.sqlite')\n",
    "\n",
    "cursor = conn.cursor()\n",
    "\n",
    "print(\"Conectado correctamente\")"
   ]
  },
  {
   "cell_type": "markdown",
   "metadata": {},
   "source": [
    "**Creación de la Tabla**\n",
    "\n",
    "cursor.execute('''CREATE TABLE Nombre\n",
    "\n",
    "         (ID INT PRIMARY KEY     NOT NULL,\n",
    "         \n",
    "         Campo1           TEXT    NOT NULL,\n",
    "         \n",
    "         Campo2            INT     NOT NULL);''')\n",
    "         \n",
    "cursor.close()"
   ]
  },
  {
   "cell_type": "code",
   "execution_count": 3,
   "metadata": {},
   "outputs": [
    {
     "data": {
      "text/plain": [
       "<sqlite3.Cursor at 0x1c1abb14570>"
      ]
     },
     "execution_count": 3,
     "metadata": {},
     "output_type": "execute_result"
    }
   ],
   "source": [
    "import sqlite3\n",
    "\n",
    "conn = sqlite3.connect('test_database') \n",
    "c = conn.cursor()\n",
    "\n",
    "c.execute('''\n",
    "          CREATE TABLE IF NOT EXISTS products\n",
    "          ([product_id] INTEGER PRIMARY KEY, [product_name] TEXT, [price] INTEGER)\n",
    "          ''')"
   ]
  },
  {
   "cell_type": "markdown",
   "metadata": {},
   "source": [
    "**Borrar Datos**\n",
    "\n",
    "import sqlite3\n",
    "\n",
    "conn = sqlite3.connect('my_database.sqlite')\n",
    "\n",
    "cursor = conn.cursor()\n",
    "\n",
    "conn.execute(\"DELETE from  Table where Campo = Valor\")\n",
    "\n",
    "conn.commit()\n",
    "\n",
    "conn.close()"
   ]
  },
  {
   "cell_type": "code",
   "execution_count": 4,
   "metadata": {},
   "outputs": [],
   "source": [
    "conn.execute (\"DELETE from products\")\n",
    "conn.commit()"
   ]
  },
  {
   "cell_type": "markdown",
   "metadata": {},
   "source": [
    "**Inserción de Valores**\n",
    "\n",
    "import sqlite3\n",
    "\n",
    "conn = sqlite3.connect('database.sqlite')\n",
    "\n",
    "cursor = conn.cursor()\n",
    "\n",
    "cursor.execute(\"INSERT INTO EMPLEADOS (ID,NAME,AGE) \\\n",
    "\n",
    "      VALUES (1, 'Razi', 14')\");\n",
    "      \n",
    "cursor.execute(\"INSERT INTO EMPLEADOS (ID,NAME,AGE,ADDRESS,MARKS) \\\n",
    "\n",
    "      VALUES (2, 'Jon', 19, 'Bangalore', 150 )\");\n",
    "      \n",
    "cursor.execute(\"INSERT INTO EMPLEADOS (ID,NAME,AGE) \\\n",
    "\n",
    "      VALUES (3, 'Martha', 35)\");\n",
    "      \n",
    "conn.commit()\n",
    "\n",
    "conn.close()"
   ]
  },
  {
   "cell_type": "code",
   "execution_count": 5,
   "metadata": {},
   "outputs": [],
   "source": [
    "c.execute('''\n",
    "          INSERT INTO products (product_id, product_name, price)\n",
    "\n",
    "                VALUES\n",
    "                (1,'Computadora',800),\n",
    "                (2,'Impresora',200),\n",
    "                (3,'Tablet',300),\n",
    "                (4,'Escritorio',450),\n",
    "                (5,'Silla',150)\n",
    "          ''')                     \n",
    "\n",
    "conn.commit()"
   ]
  },
  {
   "cell_type": "code",
   "execution_count": 6,
   "metadata": {},
   "outputs": [
    {
     "name": "stdout",
     "output_type": "stream",
     "text": [
      "   product_id product_name  price\n",
      "0           1  Computadora    800\n",
      "1           2    Impresora    200\n",
      "2           3       Tablet    300\n",
      "3           4   Escritorio    450\n",
      "4           5        Silla    150\n"
     ]
    }
   ],
   "source": [
    "import sqlite3\n",
    "import pandas as pd\n",
    "\n",
    "conn = sqlite3.connect('test_database') \n",
    "          \n",
    "sql_query = pd.read_sql_query ('''\n",
    "                               SELECT\n",
    "                               *\n",
    "                               FROM products\n",
    "                               ''', conn)\n",
    "\n",
    "Tabla = pd.DataFrame(sql_query, columns = ['product_id', 'product_name', 'price'])\n",
    "print (Tabla)"
   ]
  },
  {
   "cell_type": "code",
   "execution_count": 7,
   "metadata": {},
   "outputs": [
    {
     "name": "stdout",
     "output_type": "stream",
     "text": [
      "   product_id product_name  price\n",
      "0           1  Computadora    800\n",
      "1           2    Impresora    200\n",
      "2           3       Tablet    300\n",
      "3           4   Escritorio    450\n",
      "4           5        Silla    150\n"
     ]
    }
   ],
   "source": [
    "import sqlite3\n",
    "import pandas as pd\n",
    "\n",
    "conn = sqlite3.connect('test_database') \n",
    "c = conn.cursor()\n",
    "                 \n",
    "c.execute('''\n",
    "          SELECT\n",
    "          *\n",
    "          FROM products\n",
    "          ''')\n",
    "\n",
    "Tabla = pd.DataFrame(c.fetchall(), columns = ['product_id', 'product_name', 'price'])\n",
    "print (Tabla)"
   ]
  },
  {
   "cell_type": "code",
   "execution_count": 8,
   "metadata": {},
   "outputs": [
    {
     "name": "stdout",
     "output_type": "stream",
     "text": [
      "800\n"
     ]
    }
   ],
   "source": [
    "max_price = Tabla['price'].max()\n",
    "print (max_price)"
   ]
  },
  {
   "cell_type": "code",
   "execution_count": 9,
   "metadata": {},
   "outputs": [
    {
     "ename": "OperationalError",
     "evalue": "no such table: productos",
     "output_type": "error",
     "traceback": [
      "\u001b[1;31m---------------------------------------------------------------------------\u001b[0m",
      "\u001b[1;31mOperationalError\u001b[0m                          Traceback (most recent call last)",
      "Input \u001b[1;32mIn [9]\u001b[0m, in \u001b[0;36m<cell line: 7>\u001b[1;34m()\u001b[0m\n\u001b[0;32m      4\u001b[0m conn \u001b[38;5;241m=\u001b[39m sqlite3\u001b[38;5;241m.\u001b[39mconnect(\u001b[38;5;124m'\u001b[39m\u001b[38;5;124mtest_database\u001b[39m\u001b[38;5;124m'\u001b[39m) \n\u001b[0;32m      5\u001b[0m c \u001b[38;5;241m=\u001b[39m conn\u001b[38;5;241m.\u001b[39mcursor()\n\u001b[1;32m----> 7\u001b[0m \u001b[43mc\u001b[49m\u001b[38;5;241;43m.\u001b[39;49m\u001b[43mexecute\u001b[49m\u001b[43m(\u001b[49m\u001b[38;5;124;43m'''\u001b[39;49m\n\u001b[0;32m      8\u001b[0m \u001b[38;5;124;43m          SELECT\u001b[39;49m\n\u001b[0;32m      9\u001b[0m \u001b[38;5;124;43m          *\u001b[39;49m\n\u001b[0;32m     10\u001b[0m \u001b[38;5;124;43m          FROM productos\u001b[39;49m\n\u001b[0;32m     11\u001b[0m \u001b[38;5;124;43m          \u001b[39;49m\u001b[38;5;124;43m'''\u001b[39;49m\u001b[43m)\u001b[49m\n\u001b[0;32m     13\u001b[0m Tabla \u001b[38;5;241m=\u001b[39m pd\u001b[38;5;241m.\u001b[39mDataFrame(c\u001b[38;5;241m.\u001b[39mfetchall(), columns \u001b[38;5;241m=\u001b[39m [\u001b[38;5;124m'\u001b[39m\u001b[38;5;124mproducto_id\u001b[39m\u001b[38;5;124m'\u001b[39m, \u001b[38;5;124m'\u001b[39m\u001b[38;5;124mproducto_name\u001b[39m\u001b[38;5;124m'\u001b[39m, \u001b[38;5;124m'\u001b[39m\u001b[38;5;124mprice\u001b[39m\u001b[38;5;124m'\u001b[39m])\n\u001b[0;32m     15\u001b[0m max_precio \u001b[38;5;241m=\u001b[39m Tabla[\u001b[38;5;124m'\u001b[39m\u001b[38;5;124mprice\u001b[39m\u001b[38;5;124m'\u001b[39m]\u001b[38;5;241m.\u001b[39mmax()\n",
      "\u001b[1;31mOperationalError\u001b[0m: no such table: productos"
     ]
    }
   ],
   "source": [
    "import sqlite3\n",
    "import pandas as pd\n",
    "\n",
    "conn = sqlite3.connect('test_database') \n",
    "c = conn.cursor()\n",
    "                 \n",
    "c.execute('''\n",
    "          SELECT\n",
    "          *\n",
    "          FROM productos\n",
    "          ''')\n",
    "\n",
    "Tabla = pd.DataFrame(c.fetchall(), columns = ['producto_id', 'producto_name', 'price'])\n",
    "\n",
    "max_precio = Tabla['price'].max()\n",
    "min_precio = Tabla['price'].min()\n",
    "print (max_price)\n",
    "print (min_precio)"
   ]
  },
  {
   "cell_type": "code",
   "execution_count": null,
   "metadata": {},
   "outputs": [],
   "source": []
  }
 ],
 "metadata": {
  "kernelspec": {
   "display_name": "Python 3 (ipykernel)",
   "language": "python",
   "name": "python3"
  },
  "language_info": {
   "codemirror_mode": {
    "name": "ipython",
    "version": 3
   },
   "file_extension": ".py",
   "mimetype": "text/x-python",
   "name": "python",
   "nbconvert_exporter": "python",
   "pygments_lexer": "ipython3",
   "version": "3.9.12"
  }
 },
 "nbformat": 4,
 "nbformat_minor": 4
}
